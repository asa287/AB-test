{
 "cells": [
  {
   "cell_type": "markdown",
   "metadata": {},
   "source": [
    "# __A/B TESTING For Website Design__\n",
    "---"
   ]
  },
  {
   "cell_type": "markdown",
   "metadata": {},
   "source": [
    "### Content\n",
    "1. [About A/B test](#About_A/B_test)\n",
    "1. [Loading and Processing Data](#Loading_and_Preprocessing_Data)\n",
    "2. [Statistical Analysis](#Statistical_Analysis)\n",
    "3. [Discussion](#Discussion)"
   ]
  },
  {
   "cell_type": "markdown",
   "metadata": {},
   "source": [
    "### About A/B test\n",
    "At its core, __A/B testing__ involves comparing two populations (__Group A__ and __Group B__ – hence __A/B__) to assess their performance regarding a specific variable of interest (the __response variable__)."
   ]
  },
  {
   "cell_type": "markdown",
   "metadata": {},
   "source": [
    "differences between A/B Testing and traditional hypothesis testing:\n",
    "\n",
    "|                   | Traditional Hypothesis Testing | A/B Test   |\n",
    "|-------------------|--------------------------------|------------|\n",
    "| Sample size       | Fixed – determined before the experiment begins and remains unchanged.                     | Flexible – data is monitored as they come. |\n",
    "| Testing Framework | Static – set in advance, including the significance level and decision rules.                     | Dynamic – decisions are made as the experiment goes for a more iterative process. |\n",
    "\n",
    "\n"
   ]
  },
  {
   "cell_type": "markdown",
   "metadata": {},
   "source": []
  },
  {
   "cell_type": "markdown",
   "metadata": {},
   "source": [
    "### Loading and Preprocessing Data"
   ]
  },
  {
   "cell_type": "markdown",
   "metadata": {},
   "source": [
    "Import the necessary libraries"
   ]
  },
  {
   "cell_type": "code",
   "execution_count": 1,
   "metadata": {},
   "outputs": [],
   "source": [
    "import numpy as np            # calculation\n",
    "import pandas as pd             # dataframe\n",
    "import matplotlib.pyplot as plt                # plot\n",
    "import seaborn as sns             # quickly create plots\n",
    "\n",
    "from scipy.stats import shapiro     # check dist.'s nomrality\n",
    "from scipy.stats import mannwhitneyu     # for Mann Whitney U test"
   ]
  },
  {
   "cell_type": "markdown",
   "metadata": {},
   "source": [
    "Load data and take a quick look at the data"
   ]
  },
  {
   "cell_type": "code",
   "execution_count": 2,
   "metadata": {},
   "outputs": [
    {
     "data": {
      "text/html": [
       "<div>\n",
       "<style scoped>\n",
       "    .dataframe tbody tr th:only-of-type {\n",
       "        vertical-align: middle;\n",
       "    }\n",
       "\n",
       "    .dataframe tbody tr th {\n",
       "        vertical-align: top;\n",
       "    }\n",
       "\n",
       "    .dataframe thead th {\n",
       "        text-align: right;\n",
       "    }\n",
       "</style>\n",
       "<table border=\"1\" class=\"dataframe\">\n",
       "  <thead>\n",
       "    <tr style=\"text-align: right;\">\n",
       "      <th></th>\n",
       "      <th>USER_ID</th>\n",
       "      <th>VARIANT_NAME</th>\n",
       "      <th>REVENUE</th>\n",
       "    </tr>\n",
       "  </thead>\n",
       "  <tbody>\n",
       "    <tr>\n",
       "      <th>0</th>\n",
       "      <td>737</td>\n",
       "      <td>variant</td>\n",
       "      <td>0.0</td>\n",
       "    </tr>\n",
       "    <tr>\n",
       "      <th>1</th>\n",
       "      <td>2423</td>\n",
       "      <td>control</td>\n",
       "      <td>0.0</td>\n",
       "    </tr>\n",
       "    <tr>\n",
       "      <th>2</th>\n",
       "      <td>9411</td>\n",
       "      <td>control</td>\n",
       "      <td>0.0</td>\n",
       "    </tr>\n",
       "    <tr>\n",
       "      <th>3</th>\n",
       "      <td>7311</td>\n",
       "      <td>control</td>\n",
       "      <td>0.0</td>\n",
       "    </tr>\n",
       "    <tr>\n",
       "      <th>4</th>\n",
       "      <td>6174</td>\n",
       "      <td>variant</td>\n",
       "      <td>0.0</td>\n",
       "    </tr>\n",
       "  </tbody>\n",
       "</table>\n",
       "</div>"
      ],
      "text/plain": [
       "   USER_ID VARIANT_NAME  REVENUE\n",
       "0      737      variant      0.0\n",
       "1     2423      control      0.0\n",
       "2     9411      control      0.0\n",
       "3     7311      control      0.0\n",
       "4     6174      variant      0.0"
      ]
     },
     "execution_count": 2,
     "metadata": {},
     "output_type": "execute_result"
    }
   ],
   "source": [
    "df = pd.read_csv('data/results1.csv')\n",
    "df.head()"
   ]
  },
  {
   "cell_type": "code",
   "execution_count": 3,
   "metadata": {},
   "outputs": [
    {
     "name": "stdout",
     "output_type": "stream",
     "text": [
      "            USER_ID       REVENUE\n",
      "count  10000.000000  10000.000000\n",
      "mean    4981.080200      0.099447\n",
      "std     2890.590115      2.318529\n",
      "min        2.000000      0.000000\n",
      "25%     2468.750000      0.000000\n",
      "50%     4962.000000      0.000000\n",
      "75%     7511.500000      0.000000\n",
      "max    10000.000000    196.010000\n"
     ]
    },
    {
     "data": {
      "text/plain": [
       "USER_ID         0\n",
       "VARIANT_NAME    0\n",
       "REVENUE         0\n",
       "dtype: int64"
      ]
     },
     "execution_count": 3,
     "metadata": {},
     "output_type": "execute_result"
    }
   ],
   "source": [
    "# distribution of the data\n",
    "print(df.describe())\n",
    "# number of missing values in each column\n",
    "df.isnull().sum()"
   ]
  },
  {
   "cell_type": "markdown",
   "metadata": {},
   "source": [
    "Check the independence of the two groups "
   ]
  },
  {
   "cell_type": "code",
   "execution_count": 4,
   "metadata": {},
   "outputs": [
    {
     "name": "stdout",
     "output_type": "stream",
     "text": [
      "6324\n"
     ]
    },
    {
     "data": {
      "text/plain": [
       "False"
      ]
     },
     "execution_count": 4,
     "metadata": {},
     "output_type": "execute_result"
    }
   ],
   "source": [
    "# number of distinct elements in 'USER_ID' column\n",
    "print(df['USER_ID'].nunique())\n",
    "# are the two groups independent from each other?\n",
    "df['USER_ID'].nunique() == len(df)"
   ]
  },
  {
   "cell_type": "code",
   "execution_count": 5,
   "metadata": {},
   "outputs": [
    {
     "name": "stdout",
     "output_type": "stream",
     "text": [
      "USER_ID\n",
      "2        1\n",
      "3        2\n",
      "4        1\n",
      "5        1\n",
      "6        1\n",
      "        ..\n",
      "9993     1\n",
      "9995     1\n",
      "9996     2\n",
      "9998     1\n",
      "10000    2\n",
      "Name: VARIANT_NAME, Length: 6324, dtype: int64\n"
     ]
    },
    {
     "data": {
      "text/plain": [
       "VARIANT_NAME\n",
       "1    0.756325\n",
       "2    0.243675\n",
       "Name: count, dtype: float64"
      ]
     },
     "execution_count": 5,
     "metadata": {},
     "output_type": "execute_result"
    }
   ],
   "source": [
    "# testing number of each user\n",
    "print(df.groupby(\"USER_ID\")[\"VARIANT_NAME\"].nunique())\n",
    "# relative numbers of each testing number\n",
    "testing_num = df.groupby('USER_ID')['VARIANT_NAME'].nunique().value_counts()\n",
    "testing_num/testing_num.sum()"
   ]
  },
  {
   "cell_type": "markdown",
   "metadata": {},
   "source": [
    "We see there are a lot of users were tested twice with two web designs - 24%, which means the observations from them are not independent. Taking these users into account will blurr the effect of changes in the experiment. Therefore, we exclude these user data for analysis："
   ]
  },
  {
   "cell_type": "code",
   "execution_count": 6,
   "metadata": {},
   "outputs": [
    {
     "name": "stdout",
     "output_type": "stream",
     "text": [
      "USER_ID\n",
      "2       True\n",
      "4       True\n",
      "5       True\n",
      "6       True\n",
      "9       True\n",
      "        ... \n",
      "9990    True\n",
      "9992    True\n",
      "9993    True\n",
      "9995    True\n",
      "9998    True\n",
      "Name: VARIANT_NAME, Length: 4783, dtype: bool\n"
     ]
    },
    {
     "data": {
      "text/html": [
       "<div>\n",
       "<style scoped>\n",
       "    .dataframe tbody tr th:only-of-type {\n",
       "        vertical-align: middle;\n",
       "    }\n",
       "\n",
       "    .dataframe tbody tr th {\n",
       "        vertical-align: top;\n",
       "    }\n",
       "\n",
       "    .dataframe thead th {\n",
       "        text-align: right;\n",
       "    }\n",
       "</style>\n",
       "<table border=\"1\" class=\"dataframe\">\n",
       "  <thead>\n",
       "    <tr style=\"text-align: right;\">\n",
       "      <th></th>\n",
       "      <th>USER_ID</th>\n",
       "      <th>VARIANT_NAME</th>\n",
       "      <th>REVENUE</th>\n",
       "    </tr>\n",
       "  </thead>\n",
       "  <tbody>\n",
       "    <tr>\n",
       "      <th>0</th>\n",
       "      <td>737</td>\n",
       "      <td>variant</td>\n",
       "      <td>0.0</td>\n",
       "    </tr>\n",
       "    <tr>\n",
       "      <th>4</th>\n",
       "      <td>6174</td>\n",
       "      <td>variant</td>\n",
       "      <td>0.0</td>\n",
       "    </tr>\n",
       "    <tr>\n",
       "      <th>5</th>\n",
       "      <td>2380</td>\n",
       "      <td>variant</td>\n",
       "      <td>0.0</td>\n",
       "    </tr>\n",
       "    <tr>\n",
       "      <th>7</th>\n",
       "      <td>9168</td>\n",
       "      <td>control</td>\n",
       "      <td>0.0</td>\n",
       "    </tr>\n",
       "    <tr>\n",
       "      <th>9</th>\n",
       "      <td>7548</td>\n",
       "      <td>control</td>\n",
       "      <td>0.0</td>\n",
       "    </tr>\n",
       "    <tr>\n",
       "      <th>...</th>\n",
       "      <td>...</td>\n",
       "      <td>...</td>\n",
       "      <td>...</td>\n",
       "    </tr>\n",
       "    <tr>\n",
       "      <th>9993</th>\n",
       "      <td>2400</td>\n",
       "      <td>variant</td>\n",
       "      <td>0.0</td>\n",
       "    </tr>\n",
       "    <tr>\n",
       "      <th>9994</th>\n",
       "      <td>3129</td>\n",
       "      <td>control</td>\n",
       "      <td>0.0</td>\n",
       "    </tr>\n",
       "    <tr>\n",
       "      <th>9996</th>\n",
       "      <td>502</td>\n",
       "      <td>variant</td>\n",
       "      <td>0.0</td>\n",
       "    </tr>\n",
       "    <tr>\n",
       "      <th>9998</th>\n",
       "      <td>7741</td>\n",
       "      <td>control</td>\n",
       "      <td>0.0</td>\n",
       "    </tr>\n",
       "    <tr>\n",
       "      <th>9999</th>\n",
       "      <td>9468</td>\n",
       "      <td>control</td>\n",
       "      <td>0.0</td>\n",
       "    </tr>\n",
       "  </tbody>\n",
       "</table>\n",
       "<p>6070 rows × 3 columns</p>\n",
       "</div>"
      ],
      "text/plain": [
       "      USER_ID VARIANT_NAME  REVENUE\n",
       "0         737      variant      0.0\n",
       "4        6174      variant      0.0\n",
       "5        2380      variant      0.0\n",
       "7        9168      control      0.0\n",
       "9        7548      control      0.0\n",
       "...       ...          ...      ...\n",
       "9993     2400      variant      0.0\n",
       "9994     3129      control      0.0\n",
       "9996      502      variant      0.0\n",
       "9998     7741      control      0.0\n",
       "9999     9468      control      0.0\n",
       "\n",
       "[6070 rows x 3 columns]"
      ]
     },
     "execution_count": 6,
     "metadata": {},
     "output_type": "execute_result"
    }
   ],
   "source": [
    "# filter out users having one ab test group\n",
    "users_single = df.groupby('USER_ID')['VARIANT_NAME'].nunique() == 1\n",
    "users_single = users_single[users_single]\n",
    "print(users_single)\n",
    "df = df[df['USER_ID'].isin(users_single.index)]\n",
    "df"
   ]
  },
  {
   "cell_type": "code",
   "execution_count": 7,
   "metadata": {},
   "outputs": [
    {
     "data": {
      "text/plain": [
       "True"
      ]
     },
     "execution_count": 7,
     "metadata": {},
     "output_type": "execute_result"
    }
   ],
   "source": [
    "# just in case, check that the number of users in the df now matches the number of users with one variant (before the exception)\n",
    "df.groupby('USER_ID')['VARIANT_NAME'].nunique().value_counts()\n",
    "df.groupby('USER_ID')['VARIANT_NAME'].nunique().value_counts().iloc[0] \n",
    "df.groupby('USER_ID')['VARIANT_NAME'].nunique().value_counts().iloc[0] == testing_num.iloc[0]"
   ]
  },
  {
   "cell_type": "markdown",
   "metadata": {},
   "source": [
    "See how the data is distributed"
   ]
  },
  {
   "cell_type": "code",
   "execution_count": 8,
   "metadata": {},
   "outputs": [
    {
     "data": {
      "text/plain": [
       "<Axes: xlabel='VARIANT_NAME', ylabel='REVENUE'>"
      ]
     },
     "execution_count": 8,
     "metadata": {},
     "output_type": "execute_result"
    },
    {
     "data": {
      "image/png": "[encoded data removed]",
      "text/plain": [
       "<Figure size 640x480 with 1 Axes>"
      ]
     },
     "metadata": {},
     "output_type": "display_data"
    }
   ],
   "source": [
    "sns.boxplot(x='VARIANT_NAME', y='REVENUE', data=df)"
   ]
  },
  {
   "cell_type": "markdown",
   "metadata": {},
   "source": [
    "It can be seen that there is a strong outlier in the data. Let's sort these revenue values in descending order to find it"
   ]
  },
  {
   "cell_type": "code",
   "execution_count": 9,
   "metadata": {},
   "outputs": [
    {
     "data": {
      "text/html": [
       "<div>\n",
       "<style scoped>\n",
       "    .dataframe tbody tr th:only-of-type {\n",
       "        vertical-align: middle;\n",
       "    }\n",
       "\n",
       "    .dataframe tbody tr th {\n",
       "        vertical-align: top;\n",
       "    }\n",
       "\n",
       "    .dataframe thead th {\n",
       "        text-align: right;\n",
       "    }\n",
       "</style>\n",
       "<table border=\"1\" class=\"dataframe\">\n",
       "  <thead>\n",
       "    <tr style=\"text-align: right;\">\n",
       "      <th></th>\n",
       "      <th>USER_ID</th>\n",
       "      <th>VARIANT_NAME</th>\n",
       "      <th>REVENUE</th>\n",
       "    </tr>\n",
       "  </thead>\n",
       "  <tbody>\n",
       "    <tr>\n",
       "      <th>1437</th>\n",
       "      <td>3342</td>\n",
       "      <td>control</td>\n",
       "      <td>196.01</td>\n",
       "    </tr>\n",
       "    <tr>\n",
       "      <th>8168</th>\n",
       "      <td>2166</td>\n",
       "      <td>control</td>\n",
       "      <td>29.32</td>\n",
       "    </tr>\n",
       "    <tr>\n",
       "      <th>2482</th>\n",
       "      <td>7356</td>\n",
       "      <td>variant</td>\n",
       "      <td>23.04</td>\n",
       "    </tr>\n",
       "    <tr>\n",
       "      <th>6412</th>\n",
       "      <td>1053</td>\n",
       "      <td>control</td>\n",
       "      <td>20.07</td>\n",
       "    </tr>\n",
       "    <tr>\n",
       "      <th>5217</th>\n",
       "      <td>3684</td>\n",
       "      <td>variant</td>\n",
       "      <td>19.47</td>\n",
       "    </tr>\n",
       "  </tbody>\n",
       "</table>\n",
       "</div>"
      ],
      "text/plain": [
       "      USER_ID VARIANT_NAME  REVENUE\n",
       "1437     3342      control   196.01\n",
       "8168     2166      control    29.32\n",
       "2482     7356      variant    23.04\n",
       "6412     1053      control    20.07\n",
       "5217     3684      variant    19.47"
      ]
     },
     "execution_count": 9,
     "metadata": {},
     "output_type": "execute_result"
    }
   ],
   "source": [
    "# see the first five rows of the df\n",
    "df.sort_values(by='REVENUE', ascending=False).iloc[:5]"
   ]
  },
  {
   "cell_type": "markdown",
   "metadata": {},
   "source": [
    "Let's see if user 3342 had other events with a strong outlier"
   ]
  },
  {
   "cell_type": "code",
   "execution_count": 10,
   "metadata": {},
   "outputs": [
    {
     "data": {
      "text/html": [
       "<div>\n",
       "<style scoped>\n",
       "    .dataframe tbody tr th:only-of-type {\n",
       "        vertical-align: middle;\n",
       "    }\n",
       "\n",
       "    .dataframe tbody tr th {\n",
       "        vertical-align: top;\n",
       "    }\n",
       "\n",
       "    .dataframe thead th {\n",
       "        text-align: right;\n",
       "    }\n",
       "</style>\n",
       "<table border=\"1\" class=\"dataframe\">\n",
       "  <thead>\n",
       "    <tr style=\"text-align: right;\">\n",
       "      <th></th>\n",
       "      <th>USER_ID</th>\n",
       "      <th>VARIANT_NAME</th>\n",
       "      <th>REVENUE</th>\n",
       "    </tr>\n",
       "  </thead>\n",
       "  <tbody>\n",
       "    <tr>\n",
       "      <th>1437</th>\n",
       "      <td>3342</td>\n",
       "      <td>control</td>\n",
       "      <td>196.01</td>\n",
       "    </tr>\n",
       "  </tbody>\n",
       "</table>\n",
       "</div>"
      ],
      "text/plain": [
       "      USER_ID VARIANT_NAME  REVENUE\n",
       "1437     3342      control   196.01"
      ]
     },
     "execution_count": 10,
     "metadata": {},
     "output_type": "execute_result"
    }
   ],
   "source": [
    "df[df['USER_ID'] == 3342]"
   ]
  },
  {
   "cell_type": "markdown",
   "metadata": {},
   "source": [
    "We see that there is only one outlier and in conditions of limited information, we will remove this entry and look at the distribution of data again"
   ]
  },
  {
   "cell_type": "code",
   "execution_count": 11,
   "metadata": {},
   "outputs": [],
   "source": [
    "# delete that entry from the df\n",
    "df = df[df['USER_ID'] != 3342]"
   ]
  },
  {
   "cell_type": "code",
   "execution_count": 12,
   "metadata": {},
   "outputs": [
    {
     "data": {
      "text/plain": [
       "<Axes: xlabel='VARIANT_NAME', ylabel='REVENUE'>"
      ]
     },
     "execution_count": 12,
     "metadata": {},
     "output_type": "execute_result"
    },
    {
     "data": {
      "image/png": "[encoded data removed]",
      "text/plain": [
       "<Figure size 1200x500 with 2 Axes>"
      ]
     },
     "metadata": {},
     "output_type": "display_data"
    }
   ],
   "source": [
    "f, axes = plt.subplots(1,2, sharey=True, sharex=True, figsize=(12,5))\n",
    "sns.boxplot(ax = axes[0], x = 'VARIANT_NAME', y = 'REVENUE', data = df)\n",
    "# filter out RENVENUE values which = 0 to see the box distribution\n",
    "sns.boxplot(ax = axes[1], x = 'VARIANT_NAME', y = 'REVENUE', data = df[df['REVENUE'] > 0])"
   ]
  },
  {
   "cell_type": "markdown",
   "metadata": {},
   "source": [
    "We see that most of the users have no purchases. Now we need to check if these records are including users' multiple visits, that some times they have zero purchases while some have positive purchases."
   ]
  },
  {
   "cell_type": "code",
   "execution_count": 13,
   "metadata": {},
   "outputs": [
    {
     "data": {
      "text/plain": [
       "52"
      ]
     },
     "execution_count": 13,
     "metadata": {},
     "output_type": "execute_result"
    }
   ],
   "source": [
    "# count the number of users who have records with both zero and positive\n",
    "\n",
    "# df.loc[df['REVENUE'] > 0]   # select the users with positive revenue in format of df\n",
    "# df.loc[df['REVENUE'] > 0, 'USER_ID']   # leave the indexes in the original df & user id\n",
    "# df.loc[df['REVENUE'] > 0, 'USER_ID'].values    # leave the user ids (in form of an array)\n",
    "# df['USER_ID'].isin(df.loc[df['REVENUE'] > 0, 'USER_ID'].values)    # a series of boolean values that if each user id in the original df \n",
    "#                                                                     # is in the positive-revenue array\n",
    "# df.loc[\n",
    "#     (df['REVENUE'] == 0) & (df['USER_ID'].isin(df.loc[df['REVENUE'] > 0, 'USER_ID'].values)), \n",
    "#     'USER_ID'\n",
    "# ]    # leave all user ids whose records are both zero and positive\n",
    "(df.loc[\n",
    "    (df['REVENUE'] == 0) & (df['USER_ID'].isin(df.loc[df['REVENUE'] > 0, 'USER_ID'].values)), \n",
    "    'USER_ID'\n",
    "]).count()"
   ]
  },
  {
   "cell_type": "markdown",
   "metadata": {},
   "source": [
    "The same user can indeed have records with both zero and positive revenue.\n",
    "\n",
    "Let's summarize those records to get the sum REVENUE for each user id"
   ]
  },
  {
   "cell_type": "code",
   "execution_count": 14,
   "metadata": {},
   "outputs": [
    {
     "data": {
      "text/plain": [
       "0"
      ]
     },
     "execution_count": 14,
     "metadata": {},
     "output_type": "execute_result"
    }
   ],
   "source": [
    "df = df.groupby(by=['USER_ID', 'VARIANT_NAME']).sum().reset_index()\n",
    "# check the summarization result\n",
    "(df.loc[\n",
    "    (df['REVENUE'] == 0) & (df['USER_ID'].isin(df.loc[df['REVENUE'] > 0, 'USER_ID'].values)), \n",
    "    'USER_ID'\n",
    "]).count()      # => 0"
   ]
  },
  {
   "cell_type": "markdown",
   "metadata": {},
   "source": [
    "Let's look at the resulting distributions"
   ]
  },
  {
   "cell_type": "code",
   "execution_count": 15,
   "metadata": {},
   "outputs": [
    {
     "data": {
      "text/plain": [
       "<Axes: xlabel='VARIANT_NAME', ylabel='REVENUE'>"
      ]
     },
     "execution_count": 15,
     "metadata": {},
     "output_type": "execute_result"
    },
    {
     "data": {
      "image/png": "[encoded data removed]",
      "text/plain": [
       "<Figure size 1200x500 with 2 Axes>"
      ]
     },
     "metadata": {},
     "output_type": "display_data"
    }
   ],
   "source": [
    "f, axes = plt.subplots(1,2, sharex=True, sharey=True, figsize=(12,5))\n",
    "sns.boxplot(ax = axes[0], x = 'VARIANT_NAME', y = 'REVENUE', data = df)\n",
    "sns.boxplot(ax = axes[1], x = 'VARIANT_NAME', y = 'REVENUE', data = df[df['REVENUE'] > 0])"
   ]
  },
  {
   "cell_type": "markdown",
   "metadata": {},
   "source": [
    "It should be noted that during the transformation, the quantiles in the test group increased\n",
    "\n",
    "It can be seen that in the test group, almost all quantile statistics, except for the minimum, are at a slightly lower level.\n",
    "\n",
    "Let's look at various statistics in the context of AB test groups for all users"
   ]
  },
  {
   "cell_type": "code",
   "execution_count": 16,
   "metadata": {},
   "outputs": [
    {
     "data": {
      "text/html": [
       "<div>\n",
       "<style scoped>\n",
       "    .dataframe tbody tr th:only-of-type {\n",
       "        vertical-align: middle;\n",
       "    }\n",
       "\n",
       "    .dataframe tbody tr th {\n",
       "        vertical-align: top;\n",
       "    }\n",
       "\n",
       "    .dataframe thead tr th {\n",
       "        text-align: left;\n",
       "    }\n",
       "\n",
       "    .dataframe thead tr:last-of-type th {\n",
       "        text-align: right;\n",
       "    }\n",
       "</style>\n",
       "<table border=\"1\" class=\"dataframe\">\n",
       "  <thead>\n",
       "    <tr>\n",
       "      <th></th>\n",
       "      <th>USER_ID</th>\n",
       "      <th colspan=\"4\" halign=\"left\">REVENUE</th>\n",
       "      <th colspan=\"2\" halign=\"left\">per_user</th>\n",
       "    </tr>\n",
       "    <tr>\n",
       "      <th></th>\n",
       "      <th>nunique</th>\n",
       "      <th>sum</th>\n",
       "      <th>mean</th>\n",
       "      <th>median</th>\n",
       "      <th>count</th>\n",
       "      <th>orders</th>\n",
       "      <th>revenue</th>\n",
       "    </tr>\n",
       "    <tr>\n",
       "      <th>VARIANT_NAME</th>\n",
       "      <th></th>\n",
       "      <th></th>\n",
       "      <th></th>\n",
       "      <th></th>\n",
       "      <th></th>\n",
       "      <th></th>\n",
       "      <th></th>\n",
       "    </tr>\n",
       "  </thead>\n",
       "  <tbody>\n",
       "    <tr>\n",
       "      <th>control</th>\n",
       "      <td>2389</td>\n",
       "      <td>274.55</td>\n",
       "      <td>0.114923</td>\n",
       "      <td>0.0</td>\n",
       "      <td>2389</td>\n",
       "      <td>1.0</td>\n",
       "      <td>0.114923</td>\n",
       "    </tr>\n",
       "    <tr>\n",
       "      <th>variant</th>\n",
       "      <td>2393</td>\n",
       "      <td>179.32</td>\n",
       "      <td>0.074935</td>\n",
       "      <td>0.0</td>\n",
       "      <td>2393</td>\n",
       "      <td>1.0</td>\n",
       "      <td>0.074935</td>\n",
       "    </tr>\n",
       "  </tbody>\n",
       "</table>\n",
       "</div>"
      ],
      "text/plain": [
       "             USER_ID REVENUE                        per_user          \n",
       "             nunique     sum      mean median count   orders   revenue\n",
       "VARIANT_NAME                                                          \n",
       "control         2389  274.55  0.114923    0.0  2389      1.0  0.114923\n",
       "variant         2393  179.32  0.074935    0.0  2393      1.0  0.074935"
      ]
     },
     "execution_count": 16,
     "metadata": {},
     "output_type": "execute_result"
    }
   ],
   "source": [
    "# get metrics by groups\n",
    "all_stat = df.groupby(by='VARIANT_NAME').agg({'USER_ID': 'nunique',\n",
    "                                            'REVENUE': ['sum', 'mean', 'median', 'count']})\n",
    "\n",
    "# create two additional metrics to see relative changes\n",
    "orders_per_user = all_stat.loc[:, ('REVENUE', 'count')] / all_stat.loc[:, ('USER_ID', 'nunique')]\n",
    "revenue_per_user = all_stat.loc[:, ('REVENUE', 'sum')] / all_stat.loc[:, ('USER_ID', 'nunique')]\n",
    "\n",
    "# add them to the rest of the metrics in a separate group\n",
    "all_stat.loc[:, ('per_user', 'orders')] = orders_per_user\n",
    "all_stat.loc[:, ('per_user', 'revenue')] = revenue_per_user\n",
    "\n",
    "all_stat"
   ]
  },
  {
   "cell_type": "markdown",
   "metadata": {},
   "source": [
    "We see that in the test (variant) group, the total amount of revenue of the users and the average revenue per user decreased, but the number of users are slightly more."
   ]
  },
  {
   "cell_type": "markdown",
   "metadata": {},
   "source": [
    "Let's also see how paying users behave"
   ]
  },
  {
   "cell_type": "code",
   "execution_count": 17,
   "metadata": {},
   "outputs": [
    {
     "data": {
      "text/html": [
       "<div>\n",
       "<style scoped>\n",
       "    .dataframe tbody tr th:only-of-type {\n",
       "        vertical-align: middle;\n",
       "    }\n",
       "\n",
       "    .dataframe tbody tr th {\n",
       "        vertical-align: top;\n",
       "    }\n",
       "\n",
       "    .dataframe thead tr th {\n",
       "        text-align: left;\n",
       "    }\n",
       "\n",
       "    .dataframe thead tr:last-of-type th {\n",
       "        text-align: right;\n",
       "    }\n",
       "</style>\n",
       "<table border=\"1\" class=\"dataframe\">\n",
       "  <thead>\n",
       "    <tr>\n",
       "      <th></th>\n",
       "      <th>USER_ID</th>\n",
       "      <th colspan=\"4\" halign=\"left\">REVENUE</th>\n",
       "      <th colspan=\"2\" halign=\"left\">per_user</th>\n",
       "    </tr>\n",
       "    <tr>\n",
       "      <th></th>\n",
       "      <th>nunique</th>\n",
       "      <th>sum</th>\n",
       "      <th>mean</th>\n",
       "      <th>median</th>\n",
       "      <th>count</th>\n",
       "      <th>orders</th>\n",
       "      <th>revenue</th>\n",
       "    </tr>\n",
       "    <tr>\n",
       "      <th>VARIANT_NAME</th>\n",
       "      <th></th>\n",
       "      <th></th>\n",
       "      <th></th>\n",
       "      <th></th>\n",
       "      <th></th>\n",
       "      <th></th>\n",
       "      <th></th>\n",
       "    </tr>\n",
       "  </thead>\n",
       "  <tbody>\n",
       "    <tr>\n",
       "      <th>control</th>\n",
       "      <td>53</td>\n",
       "      <td>274.55</td>\n",
       "      <td>5.180189</td>\n",
       "      <td>2.99</td>\n",
       "      <td>53</td>\n",
       "      <td>1.0</td>\n",
       "      <td>5.180189</td>\n",
       "    </tr>\n",
       "    <tr>\n",
       "      <th>variant</th>\n",
       "      <td>42</td>\n",
       "      <td>179.32</td>\n",
       "      <td>4.269524</td>\n",
       "      <td>2.97</td>\n",
       "      <td>42</td>\n",
       "      <td>1.0</td>\n",
       "      <td>4.269524</td>\n",
       "    </tr>\n",
       "  </tbody>\n",
       "</table>\n",
       "</div>"
      ],
      "text/plain": [
       "             USER_ID REVENUE                        per_user          \n",
       "             nunique     sum      mean median count   orders   revenue\n",
       "VARIANT_NAME                                                          \n",
       "control           53  274.55  5.180189   2.99    53      1.0  5.180189\n",
       "variant           42  179.32  4.269524   2.97    42      1.0  4.269524"
      ]
     },
     "execution_count": 17,
     "metadata": {},
     "output_type": "execute_result"
    }
   ],
   "source": [
    "paid_stat = df.loc[df.REVENUE!= 0].groupby(by='VARIANT_NAME').agg({'USER_ID': 'nunique',\n",
    "                                            'REVENUE': ['sum', 'mean', 'median', 'count']})\n",
    "\n",
    "# add two additional metrics to see relative changes\n",
    "orders_per_user = paid_stat.loc[:, ('REVENUE', 'count')] / paid_stat.loc[:, ('USER_ID', 'nunique')]\n",
    "revenue_per_user = paid_stat.loc[:, ('REVENUE', 'sum')] / paid_stat.loc[:, ('USER_ID', 'nunique')]\n",
    "paid_stat.loc[:, ('per_user', 'orders')] = orders_per_user\n",
    "paid_stat.loc[:, ('per_user', 'revenue')] = revenue_per_user\n",
    "\n",
    "paid_stat"
   ]
  },
  {
   "cell_type": "markdown",
   "metadata": {},
   "source": [
    "Let's look at the distributions of all and only paying users"
   ]
  },
  {
   "cell_type": "code",
   "execution_count": 18,
   "metadata": {},
   "outputs": [
    {
     "name": "stderr",
     "output_type": "stream",
     "text": [
      "C:\\Users\\sunxi\\AppData\\Local\\Temp\\ipykernel_43780\\268597570.py:4: UserWarning: \n",
      "\n",
      "`distplot` is a deprecated function and will be removed in seaborn v0.14.0.\n",
      "\n",
      "Please adapt your code to use either `displot` (a figure-level function with\n",
      "similar flexibility) or `histplot` (an axes-level function for histograms).\n",
      "\n",
      "For a guide to updating your code to use the new functions, please see\n",
      "https://gist.github.com/mwaskom/de44147ed2974457ad6372750bbe5751\n",
      "\n",
      "  sns.distplot(df.loc[df.VARIANT_NAME == 'control', 'REVENUE'], ax = axes[0], label='control')\n",
      "C:\\Users\\sunxi\\AppData\\Local\\Temp\\ipykernel_43780\\268597570.py:5: UserWarning: \n",
      "\n",
      "`distplot` is a deprecated function and will be removed in seaborn v0.14.0.\n",
      "\n",
      "Please adapt your code to use either `displot` (a figure-level function with\n",
      "similar flexibility) or `histplot` (an axes-level function for histograms).\n",
      "\n",
      "For a guide to updating your code to use the new functions, please see\n",
      "https://gist.github.com/mwaskom/de44147ed2974457ad6372750bbe5751\n",
      "\n",
      "  sns.distplot(df.loc[df.VARIANT_NAME == 'variant', 'REVENUE'], ax = axes[0], label='variant')\n",
      "C:\\Users\\sunxi\\AppData\\Local\\Temp\\ipykernel_43780\\268597570.py:9: UserWarning: \n",
      "\n",
      "`distplot` is a deprecated function and will be removed in seaborn v0.14.0.\n",
      "\n",
      "Please adapt your code to use either `displot` (a figure-level function with\n",
      "similar flexibility) or `histplot` (an axes-level function for histograms).\n",
      "\n",
      "For a guide to updating your code to use the new functions, please see\n",
      "https://gist.github.com/mwaskom/de44147ed2974457ad6372750bbe5751\n",
      "\n",
      "  sns.distplot(df.loc[(df.VARIANT_NAME == 'control') & (df.REVENUE > 0), 'REVENUE'], ax = axes[1], label='control')\n",
      "C:\\Users\\sunxi\\AppData\\Local\\Temp\\ipykernel_43780\\268597570.py:10: UserWarning: \n",
      "\n",
      "`distplot` is a deprecated function and will be removed in seaborn v0.14.0.\n",
      "\n",
      "Please adapt your code to use either `displot` (a figure-level function with\n",
      "similar flexibility) or `histplot` (an axes-level function for histograms).\n",
      "\n",
      "For a guide to updating your code to use the new functions, please see\n",
      "https://gist.github.com/mwaskom/de44147ed2974457ad6372750bbe5751\n",
      "\n",
      "  sns.distplot(df.loc[(df.VARIANT_NAME == 'variant') & (df.REVENUE > 0), 'REVENUE'], ax = axes[1], label='variant')\n"
     ]
    },
    {
     "data": {
      "image/png": "[encoded data removed]",
      "text/plain": [
       "<Figure size 1000x800 with 2 Axes>"
      ]
     },
     "metadata": {},
     "output_type": "display_data"
    }
   ],
   "source": [
    "f, axes = plt.subplots(2, figsize=(10,8))\n",
    "\n",
    "# build graphs of distributions of all users\n",
    "sns.distplot(df.loc[df.VARIANT_NAME == 'control', 'REVENUE'], ax = axes[0], label='control')\n",
    "sns.distplot(df.loc[df.VARIANT_NAME == 'variant', 'REVENUE'], ax = axes[0], label='variant')\n",
    "axes[0].set_title('Distribution of revenue of all users')\n",
    "\n",
    "# build graphs of distributions of paying users\n",
    "sns.distplot(df.loc[(df.VARIANT_NAME == 'control') & (df.REVENUE > 0), 'REVENUE'], ax = axes[1], label='control')\n",
    "sns.distplot(df.loc[(df.VARIANT_NAME == 'variant') & (df.REVENUE > 0), 'REVENUE'], ax = axes[1], label='variant')\n",
    "axes[1].set_title('Distribution of revenue of paying users')\n",
    "\n",
    "plt.legend() # 添加图例\n",
    "plt.subplots_adjust(hspace = 0.3)  # eliminate the overlap between subplots"
   ]
  },
  {
   "cell_type": "markdown",
   "metadata": {},
   "source": [
    "### Statistical Analysis"
   ]
  },
  {
   "cell_type": "markdown",
   "metadata": {},
   "source": [
    "__A/B Testing__:\n",
    "* Check normality (by applying Shapiro-Wilk Test)\n",
    "* If Normal Distribution, check homogeneity:\n",
    "    1. If parametric apply Levene Test for homogeneity of variances\n",
    "    2. If Parametric + homogeneity of variances apply T-Test\n",
    "    3. If Parametric - homogeneity of variances apply Welch Test\n",
    "* If not Normal Distribution: Non-parametric apply Mann Whitney U Test directly\n"
   ]
  },
  {
   "cell_type": "markdown",
   "metadata": {},
   "source": [
    "##### Shapiro-Wilk test"
   ]
  },
  {
   "cell_type": "markdown",
   "metadata": {},
   "source": [
    "Based on the previous graph, we see that the data is not normally distributed, but just in case, we can confirm this formally using the Shapiro-Wilk criterion"
   ]
  },
  {
   "cell_type": "code",
   "execution_count": 19,
   "metadata": {},
   "outputs": [
    {
     "data": {
      "text/plain": [
       "ShapiroResult(statistic=0.06145986897942335, pvalue=9.962810723092505e-76)"
      ]
     },
     "execution_count": 19,
     "metadata": {},
     "output_type": "execute_result"
    }
   ],
   "source": [
    "# Shapiro-Wilk test(to determine whether a sample of data comes from a normal distribution), based on:\n",
    "# H0:  The sample data comes from a normal distribution.\n",
    "# H1: -- does not --\n",
    "shapiro(df.loc[df.VARIANT_NAME == 'variant', 'REVENUE'])"
   ]
  },
  {
   "cell_type": "markdown",
   "metadata": {},
   "source": [
    "The null hypothesis about the normal distribution of the data is rejected with p-value of 0.00."
   ]
  },
  {
   "cell_type": "markdown",
   "metadata": {},
   "source": [
    "##### Mann-Whitney test"
   ]
  },
  {
   "cell_type": "markdown",
   "metadata": {},
   "source": [
    "<!-- Some sources have a limitation of applicability in case of duplicate data -->\n",
    "There are a lot of repitations in our sample, and especially a lot of zero values, so in this case we need to be careful about this criterion."
   ]
  },
  {
   "cell_type": "code",
   "execution_count": 20,
   "metadata": {},
   "outputs": [
    {
     "data": {
      "text/plain": [
       "4687"
      ]
     },
     "execution_count": 20,
     "metadata": {},
     "output_type": "execute_result"
    }
   ],
   "source": [
    "# number of repetitive 0 in the data\n",
    "(df.REVENUE == 0).sum()"
   ]
  },
  {
   "cell_type": "markdown",
   "metadata": {},
   "source": [
    "Let's first check on the data of all users"
   ]
  },
  {
   "cell_type": "code",
   "execution_count": 21,
   "metadata": {},
   "outputs": [
    {
     "data": {
      "text/plain": [
       "MannwhitneyuResult(statistic=2845109.0, pvalue=0.24799555106821947)"
      ]
     },
     "execution_count": 21,
     "metadata": {},
     "output_type": "execute_result"
    }
   ],
   "source": [
    "# Mann-Whitney U test is the non-parametric alternative test to the independent sample t-test. \n",
    "mannwhitneyu(df.loc[df.VARIANT_NAME == 'variant', 'REVENUE'], df.loc[df.VARIANT_NAME == 'control', 'REVENUE'])"
   ]
  },
  {
   "cell_type": "markdown",
   "metadata": {},
   "source": [
    "And of only those who pay"
   ]
  },
  {
   "cell_type": "code",
   "execution_count": 22,
   "metadata": {},
   "outputs": [
    {
     "data": {
      "text/plain": [
       "MannwhitneyuResult(statistic=1029.0, pvalue=0.5314192217084708)"
      ]
     },
     "execution_count": 22,
     "metadata": {},
     "output_type": "execute_result"
    }
   ],
   "source": [
    "mannwhitneyu(df.loc[(df.VARIANT_NAME == 'variant') & (df.REVENUE > 0), 'REVENUE'], \n",
    "             df.loc[(df.VARIANT_NAME == 'control') & (df.REVENUE > 0), 'REVENUE'])"
   ]
  },
  {
   "cell_type": "markdown",
   "metadata": {},
   "source": [
    "##### Bootstrap"
   ]
  },
  {
   "cell_type": "markdown",
   "metadata": {},
   "source": [
    "In order to get more complete information about the differences between the average values of the ab test groups, we will use bootstap.\n",
    "\n",
    "Let's create a function to get boostrap samples and get a confidence interval, and then look at the sample statistics"
   ]
  },
  {
   "cell_type": "code",
   "execution_count": 85,
   "metadata": {},
   "outputs": [],
   "source": [
    "# get bootstrapping data in Python\n",
    "\n",
    "# to ensure reproducibility in A/B testing, set seed\n",
    "np.random.seed(666)\n",
    "\n",
    "def get_bootstrap_samples(data, reps):\n",
    "# data = df.loc[df.VARIANT_NAME == 'control', 'REVENUE'].values\n",
    "    indices = np.random.randint(0, len(data), (reps, len(data)))\n",
    "    # indices = np.random.randint(0, 2389, (reps, 2389))\n",
    "    samples = data[indices]\n",
    "    return samples"
   ]
  },
  {
   "cell_type": "code",
   "execution_count": 84,
   "metadata": {},
   "outputs": [],
   "source": [
    "# # define a function to get confidence intervals\n",
    "# def get_ci(stat, alpha):\n",
    "#     boundaries = np.percentile(stat,[100*alpha/2.,100*(1-alpha/2.)])\n",
    "#     return boundaries"
   ]
  },
  {
   "cell_type": "markdown",
   "metadata": {},
   "source": [
    "Now generate bootstrap samples for all users"
   ]
  },
  {
   "cell_type": "code",
   "execution_count": 86,
   "metadata": {},
   "outputs": [],
   "source": [
    "control = get_bootstrap_samples(df.loc[df.VARIANT_NAME == 'control', 'REVENUE'].values, 10000)\n",
    "variant = get_bootstrap_samples(df.loc[df.VARIANT_NAME =='variant', 'REVENUE'].values, 10000)\n",
    "# sns.kdeplot(np.mean(variant, axis=1), fill=True, label='variant')"
   ]
  },
  {
   "cell_type": "markdown",
   "metadata": {},
   "source": [
    "And only for the paying users"
   ]
  },
  {
   "cell_type": "code",
   "execution_count": 87,
   "metadata": {},
   "outputs": [],
   "source": [
    "control_paid = get_bootstrap_samples(df.loc[(df.VARIANT_NAME == 'control') & (df.REVENUE > 0), 'REVENUE'].values, 10000)\n",
    "variant_paid = get_bootstrap_samples(df.loc[(df.VARIANT_NAME == 'variant') & (df.REVENUE > 0), 'REVENUE'].values, 10000)"
   ]
  },
  {
   "cell_type": "markdown",
   "metadata": {},
   "source": [
    "Let's look at the distribution of means in the ab test groups"
   ]
  },
  {
   "cell_type": "code",
   "execution_count": 92,
   "metadata": {},
   "outputs": [
    {
     "data": {
      "text/plain": [
       "Text(0.5, 1.0, 'Sample mean distribution for all users')"
      ]
     },
     "execution_count": 92,
     "metadata": {},
     "output_type": "execute_result"
    },
    {
     "data": {
      "image/png": "[encoded data removed]",
      "text/plain": [
       "<Figure size 640x480 with 1 Axes>"
      ]
     },
     "metadata": {},
     "output_type": "display_data"
    }
   ],
   "source": [
    "# all users\n",
    "f, ax = plt.subplots()\n",
    "sns.kdeplot(np.mean(control, axis=1), fill=True, label='control')\n",
    "sns.kdeplot(np.mean(variant, axis=1), fill=True, label='variant')\n",
    "plt.legend()\n",
    "plt.title('Sample mean distribution for all users')"
   ]
  },
  {
   "cell_type": "code",
   "execution_count": 95,
   "metadata": {},
   "outputs": [
    {
     "data": {
      "text/plain": [
       "Text(0.5, 1.0, 'Sample mean distribution for paying users')"
      ]
     },
     "execution_count": 95,
     "metadata": {},
     "output_type": "execute_result"
    },
    {
     "data": {
      "image/png": "[encoded data removed]",
      "text/plain": [
       "<Figure size 640x480 with 1 Axes>"
      ]
     },
     "metadata": {},
     "output_type": "display_data"
    }
   ],
   "source": [
    "# paying user\n",
    "f, ax = plt.subplots()\n",
    "# plt.figure(figsize=(20,5))\n",
    "sns.kdeplot(np.mean(control_paid, axis=1), fill=True, label='control')\n",
    "sns.kdeplot(np.mean(variant_paid, axis=1), fill=True, label='variant')\n",
    "plt.legend()\n",
    "plt.title('Sample mean distribution for paying users')"
   ]
  },
  {
   "cell_type": "markdown",
   "metadata": {},
   "source": [
    "We see that there are differences, but the confidence intervals looks overlap a lot. Besides, we see the distribution of variant group even places on the left side of the distribution of control group, which indicates the mean revenues of variant group may be even less than those of control group."
   ]
  },
  {
   "cell_type": "code",
   "execution_count": 82,
   "metadata": {},
   "outputs": [],
   "source": [
    "# # usually used for getting ci\n",
    "# from scipy.stats import bootstrap\n"
   ]
  },
  {
   "cell_type": "code",
   "execution_count": 83,
   "metadata": {},
   "outputs": [],
   "source": [
    "# control = df.loc[df.VARIANT_NAME == 'control', 'REVENUE'].values\n",
    "# control = (control,)\n",
    "# control = bootstrap(control, np.mean, confidence_level=0.9,\n",
    "#                 random_state=np.random.default_rng())\n",
    "# control"
   ]
  },
  {
   "cell_type": "code",
   "execution_count": 31,
   "metadata": {},
   "outputs": [],
   "source": [
    "# variant = df.loc[df.VARIANT_NAME == 'variant', 'REVENUE'].values\n",
    "# variant = (variant,)\n",
    "# variant = bootstrap(variant, np.mean, confidence_level=0.9,\n",
    "#                 random_state=np.random.default_rng())\n",
    "# variant"
   ]
  },
  {
   "cell_type": "markdown",
   "metadata": {},
   "source": [
    "### Discussion\n",
    "In order to draw conclusions about changes between ab test groups, the following changes were first made to the data:\n",
    "\n",
    "Users with two ab test groups were excluded in order to make the effect of the changes more pronounced.\n",
    "User_id=3342 was excluded, because in conditions of limited information it is a strong outlier in the received sample\n",
    "Users are taken as the experimental unit, and then the data is grouped by each user and revenue and summed over each to get one record per user.\n",
    "Despite the fact that the revenue in the test group decreased significantly, there were no statistically significant changes between the ab test groups, both among all users and among only the paying audience. For a deeper analysis, the data of the A / A test and further study of the power of the criteria will be useful."
   ]
  },
  {
   "cell_type": "markdown",
   "metadata": {},
   "source": []
  }
 ],
 "metadata": {
  "kernelspec": {
   "display_name": "base",
   "language": "python",
   "name": "python3"
  },
  "language_info": {
   "codemirror_mode": {
    "name": "ipython",
    "version": 3
   },
   "file_extension": ".py",
   "mimetype": "text/x-python",
   "name": "python",
   "nbconvert_exporter": "python",
   "pygments_lexer": "ipython3",
   "version": "3.11.5"
  }
 },
 "nbformat": 4,
 "nbformat_minor": 2
}
